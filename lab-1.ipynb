{
 "cells": [
  {
   "cell_type": "markdown",
   "metadata": {},
   "source": [
    "Interactive code execution: Users can write code and execute it in parts (in the form of \"cells\"), which allows step-by-step monitoring of the execution result and making changes along the way.\n",
    "\n",
    "Support for many programming languages: Although Jupyter was originally developed for Python, it supports more than 40 languages, including R, Julia, Scala, and many others.\n",
    "\n",
    "Data Analysis and Visualization: Jupyter Notebook is widely used to analyze large data sets. Users can import data, perform operations on it, create graphs and charts, display analytical reports - use in one environment.\n",
    "\n",
    "Documentation: Without code, you can add rich text (using Markdown), headings, lists, images, and more to Jupyter. This allows you to document each stage of analysis or development right in the workbook.\n",
    "\n",
    "Collaboration: Jupyter Notebooks can be easily saved and shared with others. This makes it an ideal tool for collaborative projects when you need to explain or demonstrate work done.\n",
    "\n",
    "Reproducibility of Research: By preserving capabilities along with results, Jupiter wants to make scientific research more reproducible. Other users can download the file, run it, and get the same results."
   ]
  },
  {
   "cell_type": "code",
   "execution_count": 1,
   "metadata": {},
   "outputs": [
    {
     "name": "stdout",
     "output_type": "stream",
     "text": [
      "Hello, Hi people!\n"
     ]
    }
   ],
   "source": [
    "\n",
    "name = input(\"Please enter your name: \")\n",
    "\n",
    "print(f\"Hello, {name}!\")\n"
   ]
  },
  {
   "cell_type": "code",
   "execution_count": 4,
   "metadata": {},
   "outputs": [
    {
     "name": "stdout",
     "output_type": "stream",
     "text": [
      "The array of random numbers: [0.22293653 0.17964237 0.4174398  0.2890811  0.79093125 0.18724076\n",
      " 0.1819008  0.19073634 0.23427309 0.21469961]\n",
      "The mean value of the array: 0.2908881639663302\n"
     ]
    }
   ],
   "source": [
    "import numpy as np\n",
    "\n",
    "random_numbers = np.random.rand(10)\n",
    "mean_value = np.mean(random_numbers)\n",
    "\n",
    "print(f\"The array of random numbers: {random_numbers}\")\n",
    "print(f\"The mean value of the array: {mean_value}\")"
   ]
  }
 ],
 "metadata": {
  "kernelspec": {
   "display_name": "Python 3",
   "language": "python",
   "name": "python3"
  },
  "language_info": {
   "codemirror_mode": {
    "name": "ipython",
    "version": 3
   },
   "file_extension": ".py",
   "mimetype": "text/x-python",
   "name": "python",
   "nbconvert_exporter": "python",
   "pygments_lexer": "ipython3",
   "version": "3.12.5"
  }
 },
 "nbformat": 4,
 "nbformat_minor": 2
}
